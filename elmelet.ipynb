{
 "cells": [
  {
   "cell_type": "markdown",
   "metadata": {},
   "source": [
    "# Kódból -> program\n",
    "## A Fordító (compiler)\n",
    "Hogyan lesz az írott szövegfájlból futtatható program?\\\n",
    "Itt jön a képbe a compiler (fordító), ami egy speciális program, aminek az a dolga, hogy egy olyan verziót hozzon létre az írott (begépelt) kódból, amit el tud olvasni a számítógép. Szóval tulajdonképpen két verziója van a programunknak: amit írtunk és amit a számítógép megért.\\\n",
    "\\\n",
    "Amikor egy olyan dolgot használunk, mint a Pycharm (ami egy ún. IDE, Integrated Development Environment), vagy a jupyter notebook, ez az egész el van előlünk rejtve, az IDE automatikusan menti, fordítja majd futtatja a kódunkat."
   ]
  },
  {
   "cell_type": "markdown",
   "metadata": {},
   "source": [
    "### CPU -> Mit csinál a processzor?\n",
    "Igazából nem sokat. Olvas/ír a memóriából illetve számol. Nagyjából ennyi.\\\n",
    "Egy végrehajtható program, amit a compiler generált csupán utasítások sorozatából áll a cpu számára, bináris kódba (0 és 1, kettes számrendszerben), valahogy így:\\\n",
    "111100011010101\\\n",
    "001010010011110\\\n",
    "101100000101011\\\n",
    "etc.etc\\\n",
    "\\\n",
    "<span style=\"color:red\">1111</span><span style=\"color:green\">0001101</span>0101\\\n",
    "001010010011110\\\n",
    "101100000101011\\\n",
    "a pirossal jelölt rész például azt mondja a cpunak, hogy olvasson a memóriából, a zöld meg hogy honnan. Aztán meg hogy mit csináljon a beolvasott adattal, pl. adja hozzá vmhez, tárolja el máshol stb. Ez a bináris (0 és 1) kód az amit úgy hívunk hogy *gépi kód*, a cpu csak ezt érti meg (0 -> nincs áram, 1 -> van áram).\\\n",
    "\\\n",
    "Mindezt azonban nekünk nem kell tudni. Nekünk csak az *if*-ek, *for*-ok, *függvény*ek és hasonló absztrakt konstrukciókkal kell foglalkoznunk, amik csak azért léteznek, hogy mi meg tudjuk fogalmazni, hogy mit akarunk elvégeztetni a géppel. A különböző programozási nyelvek azért vannak, hogy más-más megközelítésben mondhassuk el a gépnek, mit akarunk, de mindnek a végén ez lesz -> 1010111010. És a compiler az, ami a kódból gépi nyelvet csinál.\n",
    "\n"
   ]
  },
  {
   "cell_type": "markdown",
   "metadata": {},
   "source": [
    "## Az Értelmező (interpreter)"
   ]
  },
  {
   "cell_type": "markdown",
   "metadata": {},
   "source": [
    "A compiler (fordító) esetében a kódunkból egy másik, futtatható, gépi kódot tartalmazó fájl lesz. Ha futtatni szeretnénk a programunk, akkor azt a fájlt kell elindítanunk (pl. exe kiterjesztésű fájlok windowson).\\\n",
    "Az interpreter azonban együtt fut a programunkkal. Az általunk írt kódot soronként beolvassa és végre is hajtja azonnal. Ez azt is jelenti, hogy a kódunkat csak az interpreter segítségével tudjuk futtatni.\\\n",
    "\\\n",
    "A Python egy interpretált nyelv, ami azt jelenti, hogy a Python kódot egy interpreter segítségével hajtják végre. Amikor telepítjük a pythont a gépünkre, akkor telepítjük tulajdonképpen az értelmezőt is.\\\n",
    "\\\n",
    "*Okosság:  Bár a Python interpretált nyelv, a kódot először egy köztes formára, úgynevezett bytecode-ra fordítja, amelyet a Python virtuális gép (PVM) hajt végre. Jajj*"
   ]
  }
 ],
 "metadata": {
  "language_info": {
   "name": "python"
  }
 },
 "nbformat": 4,
 "nbformat_minor": 2
}
