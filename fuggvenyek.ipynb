{
 "cells": [
  {
   "cell_type": "markdown",
   "metadata": {},
   "source": [
    "[![Nyisd meg Colab-ben](https://colab.research.google.com/assets/colab-badge.svg)](https://colab.research.google.com/github/fberti/bevprog/blob/main/fuggvenyek.ipynb)"
   ]
  },
  {
   "cell_type": "markdown",
   "metadata": {},
   "source": [
    "# Fun-fun function avagy a Függvények\n",
    "\n",
    "A függvény *(function)* egy előre megírt kódrészlet, amit újra és újra fel lehet használni anélkül, hogy mindig újra le kellene írni a részleteket. Hívjuk őket még úgy is, hogy *eljárás, szubrutin, alprogram, kisnyúl*, bár a kisnyúlban nem vagyok biztos, illetve bizonyos körülmények között *metódus*, de ezt most hagyjuk."
   ]
  },
  {
   "cell_type": "markdown",
   "metadata": {},
   "source": [
    "\n",
    "### Deklaráció -> amikor leírjuk\n",
    "Hogy is néz ki egy függvény?\\\n",
    "`def fuggvenynev():` -> ez a függvény fejléce, vagy más néven definíciója\\\n",
    "&nbsp;&nbsp;&nbsp;&nbsp;`return visszateresi_ertek` -> ez már a függvény saját belső blokkja\n"
   ]
  },
  {
   "cell_type": "markdown",
   "metadata": {},
   "source": [
    "Amikor konkrétan leírjuk a függvényt, annak fejlécét, blokkját (törzsét), azt úgy hívjuk, hogy a függvény *deklarálás*a vagy *definiálás*a (más nyelvekben a két szó nem azonos jelentésű, itt igen). A függvény deklarálása a *def* kulcsszóval kezdődik, amelyet a függvény neve, majd zárójelekben a paraméterek listája követ. A függvény törzse, amely a def sor alatt, behúzással kezdődik, tartalmazza a függvény által végrehajtandó utasításokat."
   ]
  },
  {
   "cell_type": "markdown",
   "metadata": {},
   "source": [
    "Ugye azt mondtuk korábban, hogy a python interpreter (ami beolvassa majd végrehajta, magyarul futtatja a kódot), fentről lefelé, sorról sorra haladva kiértékeli a kódsorokat. Amikor egy függvényt deklarálsz a kódban a def kulcsszóval, az interpreter elolvassa és tárolja a függvény definícióját, de nem hajtja végre a függvény törzsét. A deklarálás során a függvény neve és a hozzá tartozó kódblokk a memóriában kerül tárolásra."
   ]
  },
  {
   "cell_type": "markdown",
   "metadata": {},
   "source": [
    "### Kiértékelés -> amikor meghívjuk\n",
    "A függvény tényleges kiértékelése akkor történik, amikor a függvényt meghívod a programban. Ekkor az interpreter végrehajtja a függvény törzsét a megadott argumentumokkal."
   ]
  },
  {
   "cell_type": "code",
   "execution_count": null,
   "metadata": {},
   "outputs": [
    {
     "name": "stdout",
     "output_type": "stream",
     "text": [
      "Hello, Kriszta!\n"
     ]
    }
   ],
   "source": [
    "# függvény definiálásra kerül, de a print utasítás nem fut le.\n",
    "def koszont(nev):\n",
    "    print(f\"Hello, {nev}!\")\n",
    "\n",
    "# itt sok minden egyéb történhet\n",
    "\n",
    "# függvény kiértékelése (Meghívás):\n",
    "koszont(\"Kriszta\") # a \"Kriszta\" argumentum hozzárendelődik a nev paraméterhez, az interpreter végrehajtja a függvényt"
   ]
  },
  {
   "cell_type": "code",
   "execution_count": 8,
   "metadata": {},
   "outputs": [
    {
     "name": "stdout",
     "output_type": "stream",
     "text": [
      "Az eredmény: 5\n"
     ]
    }
   ],
   "source": [
    "def osszead(a, b):\n",
    "    return a + b\n",
    "\"\"\"Itt a def szóval meghatározod a függvényt, az osszead a függvény neve, és az a és b a bemeneti értékek,\n",
    " amiket a függvény használ. A return szóval adod vissza az eredményt. A return után komplex kiértékelés is történhet\n",
    "   a függvény meghívásakor  \"\"\"\n",
    "\n",
    "print(\"Az eredmény:\",osszead(2, 3))"
   ]
  },
  {
   "cell_type": "markdown",
   "metadata": {},
   "source": [
    "Fontos, hogy a *return* utáni <u>sorok</u> nem hajtódnak végre, a függvény futása befejeződik. Viszont egy függvényben több *return* is lehet... na hogy is van ez?"
   ]
  },
  {
   "cell_type": "code",
   "execution_count": null,
   "metadata": {},
   "outputs": [
    {
     "name": "stdout",
     "output_type": "stream",
     "text": [
      "5\n",
      "3\n",
      "0\n"
     ]
    }
   ],
   "source": [
    "def abszolut_ertek(szam):\n",
    "    if szam >= 0:\n",
    "        return szam\n",
    "        print(\"ez nem íródik ki!!\")\n",
    "    else:\n",
    "        return -szam\n",
    "        print(\"ez sem!!!\")\n",
    "    # azt szoktuk mondani, hogy ez a rész \"unreachable\"\n",
    "    print(\"ez sem íródik ki\") # eddig sosem jut el az interpreter, valamelyik return-nél biztos hogy befejeződik a függvény futása\n",
    "\n",
    "# Próbáljuk ki néhány példával!\n",
    "print(abszolut_ertek(5))   # Ez 5 lesz\n",
    "print(abszolut_ertek(-3))  # Ez 3 lesz\n",
    "print(abszolut_ertek(0))   # Ez 0 lesz"
   ]
  },
  {
   "cell_type": "markdown",
   "metadata": {},
   "source": [
    "Honnan tudjuk, hogy a fenti abszolut_ertek() függvényt csak számmal lehet meghívni? Onnan, hogy az első sorban a szam változót egy számmal (int) hasonlítjuk össze (>=), az pedig csak számok között működik."
   ]
  },
  {
   "cell_type": "code",
   "execution_count": null,
   "metadata": {},
   "outputs": [
    {
     "ename": "TypeError",
     "evalue": "'>=' not supported between instances of 'str' and 'int'",
     "output_type": "error",
     "traceback": [
      "\u001b[0;31m---------------------------------------------------------------------------\u001b[0m",
      "\u001b[0;31mTypeError\u001b[0m                                 Traceback (most recent call last)",
      "Cell \u001b[0;32mIn[6], line 2\u001b[0m\n\u001b[1;32m      1\u001b[0m \u001b[38;5;66;03m# mi történne, ha a fenti abszolut_ertek() függvényt stringgel hívnánk meg?\u001b[39;00m\n\u001b[0;32m----> 2\u001b[0m \u001b[43mabszolut_ertek\u001b[49m\u001b[43m(\u001b[49m\u001b[38;5;124;43m\"\u001b[39;49m\u001b[38;5;124;43mvalami\u001b[39;49m\u001b[38;5;124;43m\"\u001b[39;49m\u001b[43m)\u001b[49m\n",
      "Cell \u001b[0;32mIn[5], line 2\u001b[0m, in \u001b[0;36mabszolut_ertek\u001b[0;34m(szam)\u001b[0m\n\u001b[1;32m      1\u001b[0m \u001b[38;5;28;01mdef\u001b[39;00m \u001b[38;5;21mabszolut_ertek\u001b[39m(szam):\n\u001b[0;32m----> 2\u001b[0m     \u001b[38;5;28;01mif\u001b[39;00m \u001b[43mszam\u001b[49m\u001b[43m \u001b[49m\u001b[38;5;241;43m>\u001b[39;49m\u001b[38;5;241;43m=\u001b[39;49m\u001b[43m \u001b[49m\u001b[38;5;241;43m0\u001b[39;49m:\n\u001b[1;32m      3\u001b[0m         \u001b[38;5;28;01mreturn\u001b[39;00m szam\n\u001b[1;32m      4\u001b[0m         \u001b[38;5;28mprint\u001b[39m(\u001b[38;5;124m\"\u001b[39m\u001b[38;5;124mez nem íródik ki!!\u001b[39m\u001b[38;5;124m\"\u001b[39m)\n",
      "\u001b[0;31mTypeError\u001b[0m: '>=' not supported between instances of 'str' and 'int'"
     ]
    }
   ],
   "source": [
    "# mi történne, ha a fenti abszolut_ertek() függvényt stringgel hívnánk meg?\n",
    "abszolut_ertek(\"valami\") # panasz majd pánik"
   ]
  },
  {
   "cell_type": "markdown",
   "metadata": {},
   "source": [
    "Mi történik, ha egy függvény nem tartalmaz return-t? Akkor a függvény futása után automatikusan *None*-t ad vissza. Ez azt jelenti, hogy a függvény nem ad vissza értéket, vagyis a függvény hívásának eredménye nem lesz más, mint None.\\\n",
    "Mi a túró az a *None*?\\\n",
    "A None egy speciális érték a Pythonban, amely azt jelzi, hogy \"semmi\". Általában akkor használjuk, amikor egy változónak vagy egy függvény visszatérési értékének nincs más értéke, amit visszaadhatnánk vagy tárolnánk."
   ]
  },
  {
   "cell_type": "code",
   "execution_count": 9,
   "metadata": {},
   "outputs": [
    {
     "name": "stdout",
     "output_type": "stream",
     "text": [
      "None\n",
      "42\n"
     ]
    }
   ],
   "source": [
    "def pelda_fuggveny(): # nincs return utasítás\n",
    "    pass\n",
    "\n",
    "eredmeny = pelda_fuggveny()\n",
    "print(eredmeny)  # Ez kiírja: None\n",
    "\n",
    "# Később beállítod az értéket\n",
    "# Ez egyfajta kezdőértékként szolgál, ami jelzi, hogy a változó még nincs beállítva.\n",
    "valtozo = None\n",
    "\n",
    "# Később:\n",
    "valtozo = 42\n",
    "print(valtozo)\n"
   ]
  },
  {
   "cell_type": "markdown",
   "metadata": {},
   "source": [
    "### Paraméterek vs Argumentumok\n",
    "A függvény bemeneti értékeit, mint fent az a-t és a b-t a függvény *paraméter*einek nevezzük. Namost, korábban argumentumokat említettünk, szóval hogy is van ez?\\\n",
    "Az \"argumentum\" és a \"paraméter\" kifejezések gyakran felcserélhetően használatosak a programozásban, de technikailag különböző fogalmakat jelentenek. Nézzük meg, mi a különbség közöttük!\n",
    "- paraméter: a függvény definíciójában szereplő <u>változó</u>, amely a függvénybe érkező adatokat jelöli. A függvény belsejében a paraméter nevével hivatkozunk a paraméter értékére\n",
    "- Az argumentum az a konkrét érték vagy adat, amelyet egy függvényhívás során adunk át a függvény paramétereinek. Az argumentumok a függvény meghívásakor vannak megadva.  Az argumentumok ténylegesen azok az adatok, amelyeket a függvény feldolgoz.\\\n",
    "\\\n",
    "Tehát még egyszer, a paraméter a változó neve, ami tartalmazza az meghíváskor adott értékeket, amiket úgy hívunk, hogy argumentumok."
   ]
  },
  {
   "cell_type": "code",
   "execution_count": null,
   "metadata": {},
   "outputs": [
    {
     "name": "stdout",
     "output_type": "stream",
     "text": [
      "25\n"
     ]
    }
   ],
   "source": [
    "# x a paraméter, egy szimpla változó a függvény belső blokkjában\n",
    "def negyzet(x):\n",
    "    return x*x\n",
    "\n",
    "# és az 5 az argumentum, az érték, amivel meghívjuk a függvényt\n",
    "eredmeny = negyzet(5)\n",
    "print(eredmeny)"
   ]
  },
  {
   "cell_type": "markdown",
   "metadata": {},
   "source": [
    "Fontos, hogy a függvényt deklarálni kell a tényleges meghívás előtt. Viszont deklarálás után többször is meghívható. A lényeg, hogy az interpreter csak a tényleges futtatáskor foglalkozik a függvény belső működésével."
   ]
  },
  {
   "cell_type": "markdown",
   "metadata": {},
   "source": [
    "A függény fejlécében megadott paramétereknek adhatunk alapértelmezett értéket. Fontos, hogy az alapértelmezett paramétereknek a paraméterlista végén kell lenniük a függvény fejlécében."
   ]
  },
  {
   "cell_type": "code",
   "execution_count": null,
   "metadata": {},
   "outputs": [
    {
     "name": "stdout",
     "output_type": "stream",
     "text": [
      "Hello, Anna!\n",
      "Szia, Béla!\n"
     ]
    }
   ],
   "source": [
    "# az udvozlet paraméternek alapértelmezett értéket adtunk\n",
    "def koszont(nev, udvozlet=\"Hello\"):\n",
    "    print(f\"{udvozlet}, {nev}!\")    # az f\"{parameter1} {parameter2}\" segítségével tudunk szépen formázott kiírást csinálni\n",
    "\n",
    "koszont(\"Anna\")          # Eredmény: Hello, Anna!\n",
    "\n",
    "# Itt megváltoztatjuk az alapértelmezett értéket\n",
    "koszont(\"Béla\", \"Szia\")  # Eredmény: Szia, Béla!\n"
   ]
  },
  {
   "cell_type": "markdown",
   "metadata": {},
   "source": [
    "### A változók hatóköre és élettartama\n",
    "A hatókör (scope) azt határozza meg, hogy a program mely részein érhető el egy adott változó. Olyasmi, mint egy láthatósági zóna.\n",
    "Két fajta hatókör van: helyi (lokális) és globális.\n",
    "- Helyi (lokális) hatókör: Ez a változó csak abban a függvényben levő blokkon belül érhető el, ahol definiáva van:"
   ]
  },
  {
   "cell_type": "code",
   "execution_count": 7,
   "metadata": {},
   "outputs": [
    {
     "name": "stdout",
     "output_type": "stream",
     "text": [
      "10\n"
     ]
    }
   ],
   "source": [
    "def peldafuggveny():\n",
    "    helyi_valtozo = 10\n",
    "    print(helyi_valtozo)  # Ez működik\n",
    "    \n",
    "peldafuggveny()\n",
    "# print(helyi_valtozo)  # Hiba lenne, mert a helyi_valtozo csak a függvényen belül létezik\n"
   ]
  },
  {
   "cell_type": "markdown",
   "metadata": {},
   "source": [
    "- Globális hatókör: Ezek a változók a teljes programban elérhetők, miután egyszer definiálták őket. Ez általában a függvényeken kívül lévő változókra igaz:"
   ]
  },
  {
   "cell_type": "code",
   "execution_count": 8,
   "metadata": {},
   "outputs": [
    {
     "name": "stdout",
     "output_type": "stream",
     "text": [
      "20\n"
     ]
    }
   ],
   "source": [
    "globalis_valtozo = 20\n",
    "\n",
    "def masik_fuggveny():\n",
    "    print(globalis_valtozo)  # Ez elérhető itt is\n",
    "\n",
    "masik_fuggveny()"
   ]
  },
  {
   "cell_type": "markdown",
   "metadata": {},
   "source": [
    "Tehát még egyszer: egy függvényen belül deklarált változó csak az adott függvényben érhető el.\n",
    "\n",
    "Az élettartam azt jelenti, hogy a változó meddig létezik a memóriában. Ez az alábbi módokon történik:\n",
    "\n",
    "- Helyi változók élettartama: Ezek a változók csak addig léteznek, amíg a függvény fut. Amikor a függvény befejeződik, a helyi változók is eltűnnek (azaz a memória felszabadul).\n",
    "\n",
    "- Globális változók élettartama: Ezek a változók a program teljes futási ideje alatt léteznek, tehát amíg a program fut, a változók is megmaradnak."
   ]
  },
  {
   "cell_type": "code",
   "execution_count": null,
   "metadata": {},
   "outputs": [
    {
     "name": "stdout",
     "output_type": "stream",
     "text": [
      "Béla\n",
      "Anna\n",
      "Péter\n",
      "Péter\n"
     ]
    }
   ],
   "source": [
    "diak1 = \"Anna\"\n",
    "def change_name():\n",
    "    diak1 = \"Béla\"\n",
    "    print(diak1)\n",
    "\n",
    "change_name() # a helyi változónak ugyanaz a neve, mint a függvényen kívüli (globális) változónak\n",
    "print(diak1) # de a függvénybeli változó nem írta felül a globális változót\n",
    "\n",
    "# Mi van, ha mégis felül akarjuk írni a globális változót egy függvényből?\n",
    " \n",
    "diak2 = \"Júlia\"\n",
    "def change_name_globally():\n",
    "    global diak2 \n",
    "    diak2 = \"Péter\"\n",
    "    print(diak2)\n",
    "\n",
    "change_name_globally()\n",
    "print(diak2) # Júliából Péter lett!!\n"
   ]
  },
  {
   "cell_type": "code",
   "execution_count": null,
   "metadata": {},
   "outputs": [],
   "source": []
  }
 ],
 "metadata": {
  "kernelspec": {
   "display_name": "jupyter",
   "language": "python",
   "name": "python3"
  },
  "language_info": {
   "codemirror_mode": {
    "name": "ipython",
    "version": 3
   },
   "file_extension": ".py",
   "mimetype": "text/x-python",
   "name": "python",
   "nbconvert_exporter": "python",
   "pygments_lexer": "ipython3",
   "version": "3.12.6"
  }
 },
 "nbformat": 4,
 "nbformat_minor": 2
}
