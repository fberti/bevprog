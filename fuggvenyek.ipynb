{
 "cells": [
  {
   "cell_type": "markdown",
   "metadata": {},
   "source": [
    "[![Nyisd meg Colab-ben](https://colab.research.google.com/assets/colab-badge.svg)](https://colab.research.google.com/github/fberti/bevprog/blob/main/fuggvenyek.ipynb)"
   ]
  },
  {
   "cell_type": "markdown",
   "metadata": {},
   "source": [
    "# Fun-fun function avagy a Függvények\n",
    "\n",
    "A függvény *(function)* egy előre megírt kódrészlet, amit újra és újra fel lehet használni anélkül, hogy mindig újra le kellene írni a részleteket. Hívjuk őket még úgy is, hogy *eljárás, szubrutin, alprogram, kisnyúl*, bár a kisnyúlban nem vagyok biztos, illetve bizonyos körülmények között *metódus*, de ezt most hagyjuk."
   ]
  },
  {
   "cell_type": "markdown",
   "metadata": {},
   "source": [
    "Hogy is néz ki egy függvény?\\\n",
    "`def fuggvenynev():` -> ez a függvény fejléce, vagy más néven definíciója\\\n",
    "&nbsp;&nbsp;&nbsp;&nbsp;`return visszateresi_ertek` -> ez már a függvény saját belső blokkja\n"
   ]
  },
  {
   "cell_type": "markdown",
   "metadata": {},
   "source": [
    "Amikor konkrétan leírjuk a függvényt, annak fejlécét, blokkját (törzsét), azt úgy hívjuk, hogy a függvény *deklarálás*a vagy *definiálás*a (más nyelvekben a két szó nem azonos jelentésű, itt igen). A függvény deklarálása a *def* kulcsszóval kezdődik, amelyet a függvény neve, majd zárójelekben a paraméterek listája követ. A függvény törzse, amely a def sor alatt, behúzással kezdődik, tartalmazza a függvény által végrehajtandó utasításokat."
   ]
  },
  {
   "cell_type": "markdown",
   "metadata": {},
   "source": [
    "Ugye azt mondtuk korábban, hogy a python interpreter (ami beolvassa majd végrehajta, magyarul futtatja a kódot), fentről lefelé, sorról sorra haladva kiértékeli a kódsorokat. Amikor egy függvényt deklarálsz a kódban a def kulcsszóval, az interpreter elolvassa és tárolja a függvény definícióját, de nem hajtja végre a függvény törzsét. A deklarálás során a függvény neve és a hozzá tartozó kódblokk a memóriában kerül tárolásra."
   ]
  },
  {
   "cell_type": "markdown",
   "metadata": {},
   "source": [
    "A függvény tényleges kiértékelése akkor történik, amikor a függvényt meghívod a programban. Ekkor az interpreter végrehajtja a függvény törzsét a megadott argumentumokkal."
   ]
  },
  {
   "cell_type": "code",
   "execution_count": null,
   "metadata": {},
   "outputs": [
    {
     "name": "stdout",
     "output_type": "stream",
     "text": [
      "Hello, Kriszta!\n"
     ]
    }
   ],
   "source": [
    "# függvény definiálásra kerül, de a print utasítás nem fut le.\n",
    "def koszont(nev):\n",
    "    print(f\"Hello, {nev}!\")\n",
    "\n",
    "# itt sok minden egyéb történhet\n",
    "\n",
    "# függvény kiértékelése (Meghívás):\n",
    "koszont(\"Kriszta\") # a \"Kriszta\" argumentum hozzárendelődik a nev paraméterhez, az interpreter végrehajtja a függvényt"
   ]
  },
  {
   "cell_type": "code",
   "execution_count": 8,
   "metadata": {},
   "outputs": [
    {
     "name": "stdout",
     "output_type": "stream",
     "text": [
      "Az eredmény: 5\n"
     ]
    }
   ],
   "source": [
    "def osszead(a, b):\n",
    "    return a + b\n",
    "\"\"\"Itt a def szóval meghatározod a függvényt, az osszead a függvény neve, és az a és b a bemeneti értékek,\n",
    " amiket a függvény használ. A return szóval adod vissza az eredményt. A return után komplex kiértékelés is történhet\n",
    "   a függvény meghívásakor  \"\"\"\n",
    "\n",
    "print(\"Az eredmény:\",osszead(2, 3))"
   ]
  },
  {
   "cell_type": "markdown",
   "metadata": {},
   "source": [
    "A függvény bemeneti értékeit, mint fent az a-t és a b-t a függvény *paraméter*einek nevezzük. Namost, korábban argumentumokat említettünk, szóval hogy is van ez?\\\n",
    "Az \"argumentum\" és a \"paraméter\" kifejezések gyakran felcserélhetően használatosak a programozásban, de technikailag különböző fogalmakat jelentenek. Nézzük meg, mi a különbség közöttük!\n",
    "- paraméter: a függvény definíciójában szereplő <u>változó</u>, amely a függvénybe érkező adatokat jelöli. A függvény belsejében a paraméter nevével hivatkozunk a paraméter értékére\n",
    "- Az argumentum az a konkrét érték vagy adat, amelyet egy függvényhívás során adunk át a függvény paramétereinek. Az argumentumok a függvény meghívásakor vannak megadva.  Az argumentumok ténylegesen azok az adatok, amelyeket a függvény feldolgoz.\\\n",
    "\\\n",
    "Tehát még egyszer, a paraméter a változó neve, ami tartalmazza az meghíváskor adott értékeket, amiket úgy hívunk, hogy argumentumok."
   ]
  },
  {
   "cell_type": "code",
   "execution_count": null,
   "metadata": {},
   "outputs": [
    {
     "name": "stdout",
     "output_type": "stream",
     "text": [
      "25\n"
     ]
    }
   ],
   "source": [
    "# x a paraméter, egy szimpla változó a függvény belső blokkjában\n",
    "def negyzet(x):\n",
    "    return x*x\n",
    "\n",
    "# és az 5 az argumentum, az érték, amivel meghívjuk a függvényt\n",
    "eredmeny = negyzet(5)\n",
    "print(eredmeny)"
   ]
  },
  {
   "cell_type": "markdown",
   "metadata": {},
   "source": [
    "Fontos, hogy a függvényt deklarálni kell a tényleges meghívás előtt. Viszont deklarálás után többször is meghívható. A lényeg, hogy az interpreter csak a tényleges futtatáskor foglalkozik a függvény belső működésével."
   ]
  },
  {
   "cell_type": "markdown",
   "metadata": {},
   "source": [
    "A függény fejlécében megadott paramétereknek adhatunk alapértelmezett értéket. Fontos, hogy az alapértelmezett paramétereknek a paraméterlista végén kell lenniük a függvény fejlécében."
   ]
  },
  {
   "cell_type": "code",
   "execution_count": null,
   "metadata": {},
   "outputs": [
    {
     "name": "stdout",
     "output_type": "stream",
     "text": [
      "Hello, Anna!\n",
      "Szia, Béla!\n"
     ]
    }
   ],
   "source": [
    "# az udvozlet paraméternek alapértelmezett értéket adtunk\n",
    "def koszont(nev, udvozlet=\"Hello\"):\n",
    "    print(f\"{udvozlet}, {nev}!\")    # az f\"{parameter1} {parameter2}\" segítségével tudunk szépen formázott kiírást csinálni\n",
    "\n",
    "koszont(\"Anna\")          # Eredmény: Hello, Anna!\n",
    "\n",
    "# Itt megváltoztatjuk az alapértelmezett értéket\n",
    "koszont(\"Béla\", \"Szia\")  # Eredmény: Szia, Béla!\n"
   ]
  },
  {
   "cell_type": "code",
   "execution_count": null,
   "metadata": {},
   "outputs": [],
   "source": []
  }
 ],
 "metadata": {
  "kernelspec": {
   "display_name": "jupyter",
   "language": "python",
   "name": "python3"
  },
  "language_info": {
   "codemirror_mode": {
    "name": "ipython",
    "version": 3
   },
   "file_extension": ".py",
   "mimetype": "text/x-python",
   "name": "python",
   "nbconvert_exporter": "python",
   "pygments_lexer": "ipython3",
   "version": "3.12.6"
  }
 },
 "nbformat": 4,
 "nbformat_minor": 2
}
