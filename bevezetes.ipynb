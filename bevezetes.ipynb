{
 "cells": [
  {
   "cell_type": "markdown",
   "metadata": {},
   "source": [
    "# Bevezetés a python alapjaiba"
   ]
  },
  {
   "cell_type": "markdown",
   "metadata": {},
   "source": [
    "### Számolunk, nyomtatunk és kommentelünk\n",
    "A `print()` *függvény* kiír valamit a képernyőre. A függvényekkel később még foglalkozunk, elég most annyi, hogy a print a zárójelbe írt, \"\" karakterekkel határolt karaktersort (vagy *string*et) kiírja.\n",
    "Vigyázzunk, hogy a *space* (üres karakter) is karakter (\" \")."
   ]
  },
  {
   "cell_type": "code",
   "execution_count": 1,
   "metadata": {},
   "outputs": [
    {
     "name": "stdout",
     "output_type": "stream",
     "text": [
      "Helló, világ!\n"
     ]
    }
   ],
   "source": [
    "print(\"Helló, világ!\")"
   ]
  },
  {
   "cell_type": "markdown",
   "metadata": {},
   "source": [
    "A print hasonlóan működik, mint egy excel függvény, a *\"Helló világ!\"* egy ún. *argumentum*, egy olyan érték, amit a függvénynek átadunk. A függvény majd ezzel az argumentummal dolgozik.\n",
    "A print függvénynek több argumentumot is átadhatunk, vesszővel elválasztva."
   ]
  },
  {
   "cell_type": "code",
   "execution_count": 11,
   "metadata": {},
   "outputs": [
    {
     "name": "stdout",
     "output_type": "stream",
     "text": [
      "Helló, világ! Nincsen virág\n",
      "argumentum 1 argumentum 2\n"
     ]
    }
   ],
   "source": [
    "print(\"Helló, világ!\", \"Nincsen virág\") # bocsi a kínrímért\n",
    "print(\"argumentum 1\", \"argumentum 2\")"
   ]
  },
  {
   "cell_type": "markdown",
   "metadata": {},
   "source": [
    "Itt már be is jött egy új dolog, a komment. Nagyon egyszerű, kétféle komment van:\n",
    "- sorkomment: *#* jel utáni szöveg figyelmen kívűl marad, mintha ott sem lenne, csak egy sorba lehet írni\n",
    "- blokk komment *\"\"\"* három \" jellel kezdődő és végződő komment, több soros is lehet"
   ]
  },
  {
   "cell_type": "code",
   "execution_count": 7,
   "metadata": {},
   "outputs": [],
   "source": [
    "# egysoros komment\n",
    "\"\"\" Többsoros komment\n",
    "    több sorba is\n",
    "    lehet írni\n",
    "\"\"\"\n",
    "pass # ez egy utasítás, ami nem csinál semmit. Tényleg, ez a dolga. Passz."
   ]
  },
  {
   "cell_type": "markdown",
   "metadata": {},
   "source": [
    "A print függvény argumentumainak helyén akár műveleteket is végezhetünk. A print függvény meghívásakor először kiértékelődik az argumentum helyére írt művelet, majd az eredmény átadódik a print függvénynek. \\\n",
    "pl. `print(\"Az összeadás eredménye:\", 2+2)`\n",
    "Látható, hogy itt nem egy stringet (karakterláncot) adunk át második helyen a printnek, hanem egy műveletsort. A print meghívásakor először az kiértékelődik (4 lesz belőle), majd átadódik a printnek, ami kiírja."
   ]
  },
  {
   "cell_type": "code",
   "execution_count": 8,
   "metadata": {},
   "outputs": [
    {
     "name": "stdout",
     "output_type": "stream",
     "text": [
      "Az összeadás eredménye: 4\n"
     ]
    }
   ],
   "source": [
    "\n",
    "print(\"Az összeadás eredménye:\", 2+2)"
   ]
  },
  {
   "cell_type": "code",
   "execution_count": 10,
   "metadata": {},
   "outputs": [
    {
     "name": "stdout",
     "output_type": "stream",
     "text": [
      "Hens 30.0\n",
      "A 'hello' string hossza: 5\n"
     ]
    }
   ],
   "source": [
    "print(\"Hens\", 25 + 30 / 6)\n",
    "print(\"A 'hello' string hossza:\",len(\"hello\")) # a len függvény egy string (karakterlánc) hosszát adja eredményül"
   ]
  },
  {
   "cell_type": "markdown",
   "metadata": {},
   "source": [
    "### Végrehajtási sorrend\n",
    "A python a kódot úgy hajtja végre, ahogy egy szakács olvas egy receptet, fentről lefelé olvassa a sorokat, illetve a sorban balról jobbra halad. \n",
    "Ha egy kifejezésben több műveleti jel is szerepel, akkor akkor a kiértékelési sorrend úgy néz ki, ahogy a matematikában megszoktuk."
   ]
  },
  {
   "cell_type": "code",
   "execution_count": 1,
   "metadata": {},
   "outputs": [
    {
     "name": "stdout",
     "output_type": "stream",
     "text": [
      "Először\n",
      "Másodszor Harmadszor\n",
      "Negyedszer\n"
     ]
    }
   ],
   "source": [
    "print(\"Először\")\n",
    "print(\"Másodszor\", \"Harmadszor\")\n",
    "print(\"Negyedszer\")"
   ]
  },
  {
   "cell_type": "code",
   "execution_count": 7,
   "metadata": {},
   "outputs": [
    {
     "name": "stdout",
     "output_type": "stream",
     "text": [
      "10\n",
      "9\n",
      "64\n"
     ]
    }
   ],
   "source": [
    "print(2*(2+3)) # a zárójel a legerősebb, az értékelődik ki először, majd szorzás: 10\n",
    "print(1+2**3) # először hatványozunk!!! majd összeadunk, ahogy a matekban: 9\n",
    "print((2**3)**2) # a legjobb, ha hatványozásnál mindig használunk zárójeleket az egyértelműség kedvéért: 64\n",
    "# Az azonos erősségű operátorok kiértékelése balról jobbra haladva történik, megint csak, ahogy a matekban"
   ]
  },
  {
   "cell_type": "markdown",
   "metadata": {},
   "source": [
    "### Modulo % móka"
   ]
  },
  {
   "cell_type": "markdown",
   "metadata": {},
   "source": [
    "Az ún. maradékos osztás, vagy 'modulo' operátorral (%) kicsit bővebben kell foglalkoznunk. Amikor használod a modulo operátort két szám között, például `a % b`, akkor azt kérdezed meg, hogy ha a-t elosztjuk b-vel, mennyi a maradék.\n",
    "- Osztás: 10 osztva 3-mal az 3, és marad 1. (Mert 3 x 3 = 9, és 10 - 9 = 1)\n",
    "- Modulo: 10 % 3 = 1\n",
    "- 10 % 4 = 2\n",
    "- 3 % 2 = 1\n",
    "- 3 % 3 = 0"
   ]
  },
  {
   "cell_type": "markdown",
   "metadata": {},
   "source": [
    "Mi történik, ha egy kisebb számot osztunk egy nagyobbal? Mondjuk 1%5=?\n",
    "Amikor a modulo operátort használjuk, az a kérdés, hogy mi marad akkor, amikor az első számot elosztjuk a másodikkal. Tehát 1%5 esetén azt kérdezzük, mi marad, ha 1-et elosztunk 5-tel:\n",
    "- Oszd el 1-et 5-tel:\n",
    "    - 5 nem fér bele 1-be egyszer sem, mert 5 nagyobb mint 1\n",
    "- Számítsd ki a maradékot:\n",
    "    - Mivel 5 nem fér bele 1-be, a maradék maga 1 lesz, mert semmit nem tudtunk elvenni belőle.\n",
    "Tehát 1/5 = 0 egész, a maradék pedig 1, mert 1-ből nem tudunk elvenni 5-öt. Ezért 1%5=1 \\\n",
    "Ennek a logikának az alapján a modulo operátor segít megérteni, hogy mennyi „maradék” marad, amikor nem tudunk teljesen elosztani egy számot a másikkal. Ha a maradék kiszámolása a cél, egyszerűen nézd meg, hogy mi marad, miután a lehető legtöbbször kivontad a második számot az elsőből."
   ]
  },
  {
   "cell_type": "code",
   "execution_count": 9,
   "metadata": {},
   "outputs": [
    {
     "name": "stdout",
     "output_type": "stream",
     "text": [
      "2\n",
      "1\n",
      "0\n",
      "1\n",
      "2\n",
      "3\n",
      "4\n",
      "0\n"
     ]
    }
   ],
   "source": [
    "print(10%4)\n",
    "print(3%2)\n",
    "print(3%3)\n",
    "print(1%5)\n",
    "print(2%5)\n",
    "print(3%5)\n",
    "print(4%5)\n",
    "print(5%5)"
   ]
  },
  {
   "cell_type": "markdown",
   "metadata": {},
   "source": [
    "A modulo azért nagyon hasznos, mert olyan dolgokra használhatjuk mint:\n",
    "- Páros-e egy szám\n",
    "- Történjen valami minden x-edik alkalommal\\\n",
    "\\\n",
    "Később ezekre még visszatérünk."
   ]
  },
  {
   "cell_type": "markdown",
   "metadata": {},
   "source": [
    "## Változók"
   ]
  },
  {
   "cell_type": "markdown",
   "metadata": {},
   "source": [
    "A változó egy tároló az adatok számára, aminek nevet adunk. Ezzel hivatkozunk rá és különböztetjük meg más változóktól. Lehet benne szám, szöveg, lista, vagy bármilyen más típusú adat.\\\n",
    "A változó létrehozása nagyon egyszerű. Csak adj neki egy nevet, és rendelj hozzá egy értéket az = (egyenlőség) jellel."
   ]
  },
  {
   "cell_type": "code",
   "execution_count": 17,
   "metadata": {},
   "outputs": [
    {
     "name": "stdout",
     "output_type": "stream",
     "text": [
      "Anna 25\n",
      "Az új életkor:  31\n",
      "32\n"
     ]
    }
   ],
   "source": [
    "# Szám típusú változó\n",
    "eletkor = 25\n",
    "\n",
    "# Szöveg típusú változó\n",
    "nev = \"Anna\"\n",
    "\n",
    "print(nev, eletkor) # itt hivatkozunk rájuk, és az értéküket átadjuk a print függvénynek\n",
    "\n",
    "# Változó értékének módosítása\n",
    "eletkor = 31\n",
    "print(\"Az új életkor: \",eletkor)  # Ez kiírja: 31\n",
    "\n",
    "# értékadáskor az egyenlőségjel bal oldalán levő dolgok értékelődnek ki először\n",
    "# tehát az életkorból kiolvasódik a 31, majd hozzáadódik 1, \n",
    "# majd az így létrejött 32-t hozzárendeljük az 'eletkor' változóhoz, felülírva az eredeti 31-et\n",
    "eletkor = eletkor + 1\n",
    "print(eletkor)"
   ]
  },
  {
   "cell_type": "markdown",
   "metadata": {},
   "source": [
    "Szabályok: A változó neve nem kezdődhet számmal, nem tartalmazhat szóközt, és nem egyezhet meg Python kulcsszavakkal, mint például *if, while*, stb. Ja, és ne használj ékezeteket lehetőleg, bár nem tiltott."
   ]
  },
  {
   "cell_type": "markdown",
   "metadata": {},
   "source": [
    "# Adattípusok"
   ]
  },
  {
   "cell_type": "markdown",
   "metadata": {},
   "source": [
    "A programozásban a \"típus\" azt jelenti, hogy milyen fajta adatot tárolunk egy változóban. Gondolj úgy a típusokra, mint a különböző formájú és méretű dobozokra, amik különböző típusú dolgok tárolására alkalmasak. Pythonban többféle beépített adattípus van, amik segítségével különböző adatokat kezelhetünk."
   ]
  },
  {
   "cell_type": "markdown",
   "metadata": {},
   "source": [
    "### Alapvető adattípusok Pythonban:\n",
    "\n",
    "1. **Számok (Numbers)**\n",
    "   - **Egész számok (int)**: Ezek olyan számok, amik nem tartalmaznak tizedesjegyeket. Például: `1`, `42`, `-5`.\n",
    "     ```python\n",
    "     kor = 25\n",
    "     ```\n",
    "   - **Lebegőpontos számok (float)**: Ezek a számok tizedesjegyeket is tartalmazhatnak. Például: `3.14`, `0.5`, `-2.7`.\n",
    "     ```python\n",
    "     pi = 3.14\n",
    "     ```\n",
    "   - **Komplex számok (complex)**: Ezek olyan számok, amiknek van valós és képzetes részük. Például: `3 + 4j`.\n",
    "     ```python\n",
    "     z = 2 + 3j\n",
    "     ```\n",
    "\n",
    "2. **Szövegek (Strings)**\n",
    "   - **Sztringek (str)**: Ezek karaktersorozatok, amiket idézőjelek közé teszünk. Például: `\"hello\"`, `'Python'`.\n",
    "     ```python\n",
    "     nev = \"Anna\"\n",
    "     ```\n",
    "\n",
    "3. **Logikai értékek (Boolean)**\n",
    "   - **Bool típus (bool)**: Két értéket vehet fel: `True` (igaz) vagy `False` (hamis). Ezeket gyakran használjuk feltételek vizsgálatára.\n",
    "     ```python\n",
    "     igaz = True\n",
    "     hamis = False\n",
    "     ```\n",
    "\n",
    "4. **Sorozatok (Sequences)**\n",
    "   - **Listák (list)**: Több érték tárolására alkalmasak, amik lehetnek különböző típusúak is. Zárójelek (`[]`) közé írjuk, és vesszővel választjuk el az elemeket. Például: `[1, 2, 3]`, `[\"alma\", \"banán\"]`.\n",
    "     ```python\n",
    "     gyumolcsok = [\"alma\", \"banán\", \"cseresznye\"]\n",
    "     ```\n",
    "   - **Tuplák (tuple)**: Hasonló a listához, de az elemei nem módosíthatók. Kerek zárójelek (`()`) közé írjuk. Például: `(1, 2, 3)`.\n",
    "     ```python\n",
    "     pontok = (10, 20)\n",
    "     ```\n",
    "   - **Szótárak (dictionary)**: Kulcs-érték párok tárolására szolgálnak. Kapcsos zárójelek (`{}`) közé írjuk, és a kulcsokat az értékektől kettősponttal választjuk el. Például: `{\"nev\": \"Anna\", \"kor\": 25}`.\n",
    "     ```python\n",
    "     szemely = {\"nev\": \"Anna\", \"kor\": 25}\n",
    "     ```\n",
    "\n",
    "5. **Halmazok (Sets)**\n",
    "   - **Halmazok (set)**: Egyedi elemek gyűjteménye, ahol az elemek sorrendje nem garantált. Kapcsos zárójelek (`{}`) közé írjuk. Például: `{\"alma\", \"banán\", \"cseresznye\"}`.\n",
    "     ```python\n",
    "     gyumolcs_halmaz = {\"alma\", \"banán\", \"cseresznye\"}\n",
    "     ```\n",
    "\n",
    "### Miért fontosak a típusok?\n",
    "\n",
    "- **Műveletek**: A változók típusai meghatározzák, milyen műveleteket lehet végrehajtani rajtuk. Például, összeadhatsz két számot, de nem adhatsz össze egy számot és egy sztringet.\n",
    "- **Hibakeresés**: A típusok segítenek a hibakeresésben, mert ha egy művelet nem támogatott egy adott típusra, a Python figyelmeztetést ad.\n",
    "\n",
    "A változók típusai rugalmasak, és Pythonban dinamikusan változhatnak, ami azt jelenti, hogy ugyanaz a változó különböző típusú adatokat is tárolhat más-más időben."
   ]
  },
  {
   "cell_type": "code",
   "execution_count": 27,
   "metadata": {},
   "outputs": [
    {
     "name": "stdout",
     "output_type": "stream",
     "text": [
      "True False\n",
      "['banán', 'eper', 'alma']\n",
      "{'nev': 'Anna', 'kor': 24}\n"
     ]
    }
   ],
   "source": [
    "# pythonban szokás, hogy _ (underscore) karaktert használunk változó nevekben,\n",
    "# ha több szavas változónevet akarunk használni\n",
    "sej_de_igaz = True\n",
    "ez_meg_hamis = False \n",
    "print(sej_de_igaz,ez_meg_hamis)\n",
    "\n",
    "kedvenc_gyumolcseim = [\"banán\", \"eper\", \"alma\"]\n",
    "print(kedvenc_gyumolcseim)\n",
    "\n",
    "szemely1 = {\"nev\":\"Anna\", \"kor\":24}\n",
    "print(szemely1)"
   ]
  },
  {
   "cell_type": "markdown",
   "metadata": {},
   "source": [
    "Vannak statikusan és dinamikusan típusos programozási nyelvek. A Python nyelv dinamikusan típusos. \\\n",
    "A statikusan típusos python így *nézne* (de nem néz!!!) ki (vagyis amikor a változó létrehozásakor, meg kell adni a típusát is, vagyis a fenti analógiával, milyen formájú és mekkora a doboz, amiben adatot akarunk tárolni): \\\n",
    "`eletkor: int = 30`\\\n",
    "`pi: float = 3.14`\\\n",
    "`nev: str = \"Anna\"`\\\n",
    "`aktiv: bool = True`\\\n",
    "`szamok: list[int] = [1, 2, 3, 4, 5]`\\\n",
    "Azonban pythonban nem szükséges megadnunk a típusokat, ugyanis a python értelmezője (ezekről majd később) 'kitalája' a típust az értékből. Továbbá gond nélkül adhatunk új típusú értéket egy változónak. De ne tegyük, soha ne változtassuk meg egy változó típusát, mert zavart okozhat."
   ]
  },
  {
   "cell_type": "code",
   "execution_count": 35,
   "metadata": {},
   "outputs": [
    {
     "name": "stdout",
     "output_type": "stream",
     "text": [
      "12\n",
      "tizenkettő\n"
     ]
    }
   ],
   "source": [
    "x = 12\n",
    "print(x)\n",
    "\n",
    "# technikailag rendben van\n",
    "x = \"tizenkettő\"\n",
    "print(x)\n",
    "\n",
    "# ez itt hibát adna, nem adhatunk string-hez számot\n",
    "# x = x + 1 # TypeError: can only concatenate str (not \"int\") to str\n"
   ]
  },
  {
   "cell_type": "markdown",
   "metadata": {},
   "source": [
    "Attól még, hogy nem kell kiírnunk a típust, azok még léteznek.\\\n",
    "`nev: \"Anna\"` *nev* itt string (str) típusú lesz\\\n",
    "`szam: \"12\"` *szam* itt is string, mert a 12 \"\" között van (mint az excelben)\\\n",
    "\n",
    "Mi van akkor, ha számot (int) akarunk csinálni a \"12\"-ből? Át kell konvertálnunk:\\\n",
    "`rendes_szam: int(szam)`"
   ]
  },
  {
   "cell_type": "code",
   "execution_count": 47,
   "metadata": {},
   "outputs": [
    {
     "name": "stdout",
     "output_type": "stream",
     "text": [
      "12\n",
      "<class 'str'>\n",
      "<class 'int'>\n"
     ]
    }
   ],
   "source": [
    "szam = \"12\"\n",
    "rendes_szam = int(szam) # típus konverzió (stringből integer lesz, magyarul karakterláncból egész szám)\n",
    "print(rendes_szam)\n",
    "\n",
    "# használhatjuk a type() függvényt a típus meghatározására:\n",
    "print(type(szam)) # str\n",
    "print(type(rendes_szam)) # int\n"
   ]
  },
  {
   "cell_type": "code",
   "execution_count": 48,
   "metadata": {},
   "outputs": [
    {
     "name": "stdout",
     "output_type": "stream",
     "text": [
      "<class 'str'>\n",
      "<class 'int'>\n"
     ]
    }
   ],
   "source": [
    "\n",
    "# figyeljünk arra, hogy a konverzió nem módosítja a változót, hanem új értéket hoz létre:\n",
    "s = \"33\"\n",
    "int(s)\n",
    "print(type(s)) # str, nem int!!!\n",
    "\n",
    "uj_s = int(s) # egy új változóban tároljuk el az int() függvény által visszaadott értéket\n",
    "print(type(uj_s)) # int"
   ]
  },
  {
   "cell_type": "markdown",
   "metadata": {},
   "source": [
    "Milyen beépített típuskonverziós függvények vannak?\\\n",
    "- `int()`\n",
    "- `float()`\n",
    "- `str()`\n",
    "- `bool()`\n",
    "- `list()`\n",
    "- illetve a teljesség kedvéért `tuple(), set(), dict(), complex()`"
   ]
  },
  {
   "cell_type": "code",
   "execution_count": 49,
   "metadata": {},
   "outputs": [],
   "source": [
    "a = int(3.14)  # Eredmény: 3\n",
    "b = int(\"42\")  # Eredmény: 42\n",
    "\n",
    "c = float(3)    # Eredmény: 3.0\n",
    "d = float(\"4.2\")  # Eredmény: 4.2\n",
    "\n",
    "e = str(42)  # Eredmény: \"42\"\n",
    "f = str(3.14)  # Eredmény: \"3.14\"\n",
    "\n",
    "g = bool(0)  # Eredmény: False\n",
    "h = bool(1)  # Eredmény: True\n",
    "i = bool(\"\")  # Eredmény: False\n",
    "\n",
    "j = list(\"hello\")  # Eredmény: ['h', 'e', 'l', 'l', 'o']\n",
    "k = list((1, 2, 3))  # Eredmény: [1, 2, 3]\n",
    "\n",
    "# stb."
   ]
  },
  {
   "cell_type": "code",
   "execution_count": null,
   "metadata": {},
   "outputs": [],
   "source": []
  }
 ],
 "metadata": {
  "kernelspec": {
   "display_name": "jupyter",
   "language": "python",
   "name": "python3"
  },
  "language_info": {
   "codemirror_mode": {
    "name": "ipython",
    "version": 3
   },
   "file_extension": ".py",
   "mimetype": "text/x-python",
   "name": "python",
   "nbconvert_exporter": "python",
   "pygments_lexer": "ipython3",
   "version": "3.12.6"
  }
 },
 "nbformat": 4,
 "nbformat_minor": 2
}
