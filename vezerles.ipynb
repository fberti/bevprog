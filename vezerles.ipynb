{
 "cells": [
  {
   "cell_type": "markdown",
   "metadata": {},
   "source": [
    "[![Nyisd meg Colab-ben](https://colab.research.google.com/assets/colab-badge.svg)](https://colab.research.google.com/github/fberti/bevprog/blob/main/vezerles.ipynb)"
   ]
  },
  {
   "cell_type": "markdown",
   "metadata": {},
   "source": [
    "# Vezérlési szerkezetek, avagy hogyan csináljunk valamit?\n",
    "\n",
    "A vezérlési szerkezetek alapvető építőelemei a programozásnak, ezek segítségével a programozók képesek irányítani a programjuk folyamatát, döntéseket hozni és kezelni az ismétlődő feladatokat."
   ]
  },
  {
   "cell_type": "markdown",
   "metadata": {},
   "source": [
    "## Logikai operátorok (<, >, ==, !=, and, or, not)\n",
    "A logikai (összehasonlító) operátorok olyan eszközök a programozásban, amelyekkel összehasonlíthatjuk az értékeket, és ezek az összehasonlítások logikai értékeket adnak vissza: True (igaz) vagy False (hamis). Ezek az operátorok alapvető építőkövei a feltételes logikának és a döntéshozatalnak a programokban."
   ]
  },
  {
   "cell_type": "code",
   "execution_count": 6,
   "metadata": {},
   "outputs": [
    {
     "name": "stdout",
     "output_type": "stream",
     "text": [
      "True\n",
      "False\n",
      "True\n",
      "False\n",
      "True\n",
      "False\n",
      "True\n",
      "False\n"
     ]
    }
   ],
   "source": [
    "# == (egyenlő-e) Ellenőrzi, hogy két érték egyenlő-e.\n",
    "print(5 == 5)  # Eredmény: True\n",
    "print(5 == 3)  # Eredmény: False\n",
    "\n",
    "# != (nem egyenlő-e): Ellenőrzi, hogy két érték nem egyenlő-e.\n",
    "print(5 != 3)  # Eredmény: True\n",
    "print(5 != 5)  # Eredmény: False\n",
    "\n",
    "# > (nagyobb-e mint) Ellenőrzi, hogy az első érték nagyobb-e a másodiknál.\n",
    "print(5 > 3)  # Eredmény: True\n",
    "print(3 > 5)  # Eredmény: False\n",
    "\n",
    "# < (kisebb-e mint): Ellenőrzi, hogy az első érték kisebb-e a másodiknál.\n",
    "print(3 < 5)  # Eredmény: True\n",
    "print(5 < 3)  # Eredmény: False\n"
   ]
  },
  {
   "cell_type": "markdown",
   "metadata": {},
   "source": [
    "- <u>and</u>: az and mindkét oldalán van egy True/False érték. Az and ezzel a két értékkel együtt ad egy új értéket\n",
    "    pl: (valami and másvalami) ahhoz, hogy a teljes kifejezés True legyen, valami-nek és másvalaminek is True-nak kell lennie\n",
    "    minden más eset False végeredményt ad\\\n",
    "    `True and True` -> True\\\n",
    "    `True and False` -> False\\\n",
    "    `False and True` -> False\\\n",
    "    `False and False` -> False\n",
    "- <u>or</u>: hasonló, de ahhoz, hogy a (valami or másvalami) teljes kifejezés igaz legyen, elég, ha csak az egyik oldal igaz\\\n",
    "    `True and True` -> True\\\n",
    "    `True and False` -> True\\\n",
    "    `False and True` -> True\\\n",
    "    `False and False` -> False\n",
    "- <u>not</u>: szimplán megfordítja a bool értéket, False-ból True, True-ból False lesz\n",
    "\n",
    "Ezeket hívjuk egyébként \"igazságtáblának\"(truth table)"
   ]
  },
  {
   "cell_type": "code",
   "execution_count": null,
   "metadata": {},
   "outputs": [],
   "source": [
    "x = 100\n",
    "y = 5\n",
    "z = 0\n",
    "\n",
    "if x > y and x > z: # 100 > 5 -> True and\n",
    "    print(\"tényleg, 100 nagyobb mint 5, és nagyobb mint 0\")"
   ]
  },
  {
   "cell_type": "code",
   "execution_count": 13,
   "metadata": {},
   "outputs": [
    {
     "name": "stdout",
     "output_type": "stream",
     "text": [
      "False\n",
      "True\n",
      "False\n"
     ]
    }
   ],
   "source": [
    "a = True\n",
    "b = False\n",
    "\n",
    "# a and b kiértékelődik, az eredmény átadódik a print függvénynek\n",
    "print(a and b)  # Eredmény: False (mindkettőnek igaznak kell lennie)\n",
    "\n",
    "# a or b kiértékelődik, az eredmény átadódik a print függvénynek\n",
    "print(a or b)   # Eredmény: True (legalább az egyiknek igaznak kell lennie)\n",
    "\n",
    "# not a kiértékelődik, az eredmény átadódik a print függvénynek\n",
    "print(not a)    # Eredmény: False (megfordítja az értéket)\n"
   ]
  },
  {
   "cell_type": "code",
   "execution_count": 9,
   "metadata": {},
   "outputs": [
    {
     "name": "stdout",
     "output_type": "stream",
     "text": [
      "True <class 'bool'>\n"
     ]
    }
   ],
   "source": [
    "# emlékeztek még a bool típusra?\n",
    "x = 5\n",
    "y = 5\n",
    "\n",
    "# értékadásnál először az értékadó (szimpla =) egyenlőségjel jobb oldalán található dolgok értékelődnek ki\n",
    "# itt az van, hogy x == y, ami egy összehasonlítás, ami egy bool (igaz vagy hamis) értéket ad vissza\n",
    "# majd az az érték eltárolódik z-ben\n",
    "z = x == y\n",
    "print(z, type(z))"
   ]
  },
  {
   "cell_type": "markdown",
   "metadata": {},
   "source": [
    "## Szekvencia, vagyis lépésről lépésre\n",
    "A legegyszerűbb szerkezet"
   ]
  },
  {
   "cell_type": "code",
   "execution_count": 1,
   "metadata": {},
   "outputs": [
    {
     "name": "stdout",
     "output_type": "stream",
     "text": [
      "15\n"
     ]
    }
   ],
   "source": [
    "# Szekvencia példa: egyszerű utasítások végrehajtása egymás után\n",
    "a = 5\n",
    "b = 10\n",
    "c = a + b\n",
    "print(c)  # Kiírja: 15"
   ]
  },
  {
   "cell_type": "markdown",
   "metadata": {},
   "source": [
    "## Elágazás\n",
    "Mint a HA függvény az Excelben"
   ]
  },
  {
   "cell_type": "code",
   "execution_count": null,
   "metadata": {},
   "outputs": [
    {
     "name": "stdout",
     "output_type": "stream",
     "text": [
      "A szám pozitív\n"
     ]
    }
   ],
   "source": [
    "# Elágazás példa: feltételes végrehajtás\n",
    "szam = 10\n",
    "if szam > 0:    # True, ha szam > 0, az if után mindig vmilyen logikai érték van (True, False)\n",
    "    print(\"A szám pozitív\")\n",
    "elif szam < 0:  # az elif az olyan \"vagy ha\", ha több elágazás van, elif-eket használunk.\n",
    "    print(\"A szám negatív\")\n",
    "else:   # ha sem az if, sem az elif(ek) nem teljesültek, az else ág hajtódik végre\n",
    "    print(\"A szám nulla\")\n"
   ]
  },
  {
   "cell_type": "markdown",
   "metadata": {},
   "source": [
    "### Blokk\n",
    "Na de várjunk. Miért van a `print()` jobbra behúzva, miért nincs egy oszlopban az `if`-fel?\\\n",
    "Ez az, amit úgy hívunk, hogy behúzás (indentation), ami rendkívül fontos szerepet játszik a Pythonban, mivel ez határozza meg a program kódblokkjait és a kód logikai szerkezetét. Míg sok más programozási nyelvben a kód blokkjait kapcsos zárójelek ({}) vagy kulcsszavak jelölik, Pythonban a behúzás a blokk kezdetének és végének jelzése.\\\n",
    " A blokk vagy kódblokk olyan kódrészlet, amely <u>logikailag összetartozó utasítások</u>at tartalmaz, és amelyeket általában egy vezérlési szerkezet, mint például egy `if` utasítás, egy ciklus, vagy egy függvény határoz meg (a függvényekről később)."
   ]
  },
  {
   "cell_type": "code",
   "execution_count": null,
   "metadata": {},
   "outputs": [
    {
     "name": "stdout",
     "output_type": "stream",
     "text": [
      "egy másik blokk kezdete\n",
      "x nem nagyobb, mint 5\n",
      "a másik blokk vége\n",
      "ez megint egy új blokk kezdete\n",
      "x egyenlő kettővel\n",
      "az új blokk vége\n"
     ]
    }
   ],
   "source": [
    "# x = 10\n",
    "x = 2\n",
    "if x > 5:\n",
    "    print(\"egy blokk kezdete\")\n",
    "    print(\"x nagyobb, mint 5\")\n",
    "    print(\"blokk vége\")\n",
    "else:\n",
    "    print(\"egy másik blokk kezdete\")\n",
    "    print(\"x nem nagyobb, mint 5\")\n",
    "    print(\"a másik blokk vége\")\n",
    "    if x == 2:\n",
    "        print(\"ez megint egy új blokk kezdete\")\n",
    "        print(\"x egyenlő kettővel\")\n",
    "        print(\"az új blokk vége\")\n"
   ]
  },
  {
   "cell_type": "markdown",
   "metadata": {},
   "source": [
    "## Ciklus (iteráció)\n",
    "Ismétlődő feladatok végrehajtására, vagy egy lista elemeinek feldolgozására használjuk, a `for` és a `while` kulcsszavakat használjuk."
   ]
  },
  {
   "cell_type": "markdown",
   "metadata": {},
   "source": [
    "Lent látni fogunk két új dolgot.\n",
    "- `print(\"valami\", end=\" \")` -> a print() függvénynél be lehet állítani bizonyos dolgokat. Pl. meg lehet neki mondani, hogy a kiírás után tegyen-e valamilyen karaktert a kiírás végéhez. Alapértelmezetten ez egy ún. 'új sor' karakter (/n), ami azt jelenti, hogy minden print hívás után a következő nyomtatás egy új sorban fog kezdődni.\\\n",
    "Vagyis tulajdonképpen így néz ki a print(): `print(\"valami\", end=\"/n\")`, de az *end* el van rejtve előlünk. Erre a függvényeknél még visszatérünk.\\\n",
    "Ha azt írjuk, hogy end=\" \", akkor az új sor karaktert egy üres sorra cseréli, vagyis minden print érték egy sorban jelenik majd meg (lásd lent)\n",
    "- a '+=' '-=' értékadás ezt jelenti:\\\n",
    "    `szam = 10`\\\n",
    "     `szam = szam + 1` ugyanaz mint `szam += 1`\\\n",
    "     `szam = szam - 1` ugyanaz mint `szam -= 1`\n"
   ]
  },
  {
   "cell_type": "code",
   "execution_count": null,
   "metadata": {},
   "outputs": [
    {
     "name": "stdout",
     "output_type": "stream",
     "text": [
      "0 1 2 3 4 5 6 7 8 9 10 "
     ]
    }
   ],
   "source": [
    "# írjuk ki a számokat egytől tízig a while használatával\n",
    "eddig = 10\n",
    "innen_kezdve = 0\n",
    "\n",
    "while innen_kezdve <= eddig:\n",
    "    print(innen_kezdve, end=\" \") \n",
    "    innen_kezdve += 1 # vagyis: innen_kezdve = innen_kedve + 1\n",
    "\n",
    "\"\"\" Vajon mi történt volna, ha n \"\"\"\n"
   ]
  },
  {
   "cell_type": "markdown",
   "metadata": {},
   "source": [
    "A `range(stop)` függvény egy sorozatot generál, és leggyakrabban ciklusokkal, például for ciklusokkal együtt használják.\\\n",
    "pl: `range(5)` a számokat 0-tól 4-ig generálja\\\n",
    "`range(start, stop)`: ha a range-nek egy második számot is adunk, akkor addig a számig generál számokat\\\n",
    "pl: `range(2,5)` kimenet: 2,3,4\\\n",
    "`range(start, stop, step)`: ha a range-nek egy harmadik számot is adunk, akkor a range lépésközzel számol\\\n",
    "pl: `range(1,10,2)` kimenet: 1,3,5,7,9\\\n",
    "pl: `range(5,0,-1)` visszafelé számol, kimenet: 5,4,3,2,1\n"
   ]
  },
  {
   "cell_type": "code",
   "execution_count": null,
   "metadata": {},
   "outputs": [
    {
     "name": "stdout",
     "output_type": "stream",
     "text": [
      "0 1 2 3 4 5 6 7 8 9 "
     ]
    }
   ],
   "source": [
    "# írjuk ki a számokat nullától kilencig a for használatával\n",
    "eddig = 10\n",
    "for i in range(eddig): # itt létrejön egy i nevű változó ami mindig a range() által éppen visszaadott értéket kapja\n",
    "    print(i, end=\" \")"
   ]
  },
  {
   "cell_type": "code",
   "execution_count": null,
   "metadata": {},
   "outputs": [
    {
     "name": "stdout",
     "output_type": "stream",
     "text": [
      "1 2 3 4 5 \n",
      "ladákkal-jöttek-lányok-fiúk-vegyest-"
     ]
    }
   ],
   "source": [
    "# itt jön a képbe a list típus\n",
    "my_numbers = [1,2,3,4,5]\n",
    "\n",
    "# menjünk végig a my_numbers változó minden egyes darabján, és írjuk ki\n",
    "for i in my_numbers:\n",
    "    print(i, end=\" \")\n",
    "\n",
    "print() # printelünk egy új sor karaktert\n",
    "\n",
    "my_words = [\"ladákkal\", \"jöttek\", \"lányok\", \"fiúk\", \"vegyest\"]\n",
    "\n",
    "# nem muszáj, hogy i legyen, lehet bármi, pl. z a for utáni ideiglenes változó\n",
    "for z in my_words:\n",
    "    print(z, end=\"-\")"
   ]
  }
 ],
 "metadata": {
  "kernelspec": {
   "display_name": "jupyter",
   "language": "python",
   "name": "python3"
  },
  "language_info": {
   "codemirror_mode": {
    "name": "ipython",
    "version": 3
   },
   "file_extension": ".py",
   "mimetype": "text/x-python",
   "name": "python",
   "nbconvert_exporter": "python",
   "pygments_lexer": "ipython3",
   "version": "3.12.6"
  }
 },
 "nbformat": 4,
 "nbformat_minor": 2
}
